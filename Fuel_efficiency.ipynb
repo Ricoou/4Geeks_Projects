{
 "cells": [
  {
   "cell_type": "code",
   "execution_count": 1,
   "metadata": {},
   "outputs": [],
   "source": [
    "import requests\n",
    "import json\n",
    "from pprint import pprint\n",
    "import pandas as pd"
   ]
  },
  {
   "cell_type": "code",
   "execution_count": 2,
   "metadata": {},
   "outputs": [],
   "source": [
    "my_url_year = 'https://www.fueleconomy.gov/ws/rest/vehicle/menu/year'\n",
    "\n",
    "my_response_year = requests.get(my_url_year)"
   ]
  },
  {
   "cell_type": "code",
   "execution_count": 3,
   "metadata": {},
   "outputs": [
    {
     "data": {
      "text/plain": [
       "'<?xml version=\"1.0\" encoding=\"UTF-8\" standalone=\"yes\"?><menuItems><menuItem><text>2024</text><value>2024</value></menuItem><menuItem><text>2023</text><value>2023</value></menuItem><menuItem><text>2022</text><value>2022</value></menuItem><menuItem><text>2021</text><value>2021</value></menuItem><menuItem><text>2020</text><value>2020</value></menuItem><menuItem><text>2019</text><value>2019</value></menuItem><menuItem><text>2018</text><value>2018</value></menuItem><menuItem><text>2017</text><value>2017</value></menuItem><menuItem><text>2016</text><value>2016</value></menuItem><menuItem><text>2015</text><value>2015</value></menuItem><menuItem><text>2014</text><value>2014</value></menuItem><menuItem><text>2013</text><value>2013</value></menuItem><menuItem><text>2012</text><value>2012</value></menuItem><menuItem><text>2011</text><value>2011</value></menuItem><menuItem><text>2010</text><value>2010</value></menuItem><menuItem><text>2009</text><value>2009</value></menuItem><menuItem><text>2008</text><value>2008</value></menuItem><menuItem><text>2007</text><value>2007</value></menuItem><menuItem><text>2006</text><value>2006</value></menuItem><menuItem><text>2005</text><value>2005</value></menuItem><menuItem><text>2004</text><value>2004</value></menuItem><menuItem><text>2003</text><value>2003</value></menuItem><menuItem><text>2002</text><value>2002</value></menuItem><menuItem><text>2001</text><value>2001</value></menuItem><menuItem><text>2000</text><value>2000</value></menuItem><menuItem><text>1999</text><value>1999</value></menuItem><menuItem><text>1998</text><value>1998</value></menuItem><menuItem><text>1997</text><value>1997</value></menuItem><menuItem><text>1996</text><value>1996</value></menuItem><menuItem><text>1995</text><value>1995</value></menuItem><menuItem><text>1994</text><value>1994</value></menuItem><menuItem><text>1993</text><value>1993</value></menuItem><menuItem><text>1992</text><value>1992</value></menuItem><menuItem><text>1991</text><value>1991</value></menuItem><menuItem><text>1990</text><value>1990</value></menuItem><menuItem><text>1989</text><value>1989</value></menuItem><menuItem><text>1988</text><value>1988</value></menuItem><menuItem><text>1987</text><value>1987</value></menuItem><menuItem><text>1986</text><value>1986</value></menuItem><menuItem><text>1985</text><value>1985</value></menuItem><menuItem><text>1984</text><value>1984</value></menuItem></menuItems>'"
      ]
     },
     "execution_count": 3,
     "metadata": {},
     "output_type": "execute_result"
    }
   ],
   "source": [
    "my_response_year.text"
   ]
  },
  {
   "cell_type": "code",
   "execution_count": 4,
   "metadata": {},
   "outputs": [],
   "source": [
    "my_url_make = 'https://www.fueleconomy.gov/ws/rest/vehicle/menu/make?year=1984'\n",
    "\n",
    "my_response_make = requests.get(my_url_make)"
   ]
  },
  {
   "cell_type": "code",
   "execution_count": 59,
   "metadata": {},
   "outputs": [],
   "source": [
    "my_url_model = 'https://www.fueleconomy.gov/ws/rest/vehicle/menu/model?year=2024&make=Honda'\n",
    "\n",
    "my_response_model = requests.get(my_url_model)"
   ]
  },
  {
   "cell_type": "code",
   "execution_count": 61,
   "metadata": {},
   "outputs": [
    {
     "data": {
      "text/plain": [
       "'<?xml version=\"1.0\" encoding=\"UTF-8\" standalone=\"yes\"?><menuItems><menuItem><text>Accord</text><value>Accord</value></menuItem><menuItem><text>Accord Hybrid</text><value>Accord Hybrid</value></menuItem><menuItem><text>Accord Hybrid Sport/Touring</text><value>Accord Hybrid Sport/Touring</value></menuItem><menuItem><text>Civic 4Dr</text><value>Civic 4Dr</value></menuItem><menuItem><text>Civic 5Dr</text><value>Civic 5Dr</value></menuItem><menuItem><text>CR-V AWD</text><value>CR-V AWD</value></menuItem><menuItem><text>CR-V FWD</text><value>CR-V FWD</value></menuItem><menuItem><text>HR-V AWD</text><value>HR-V AWD</value></menuItem><menuItem><text>HR-V FWD</text><value>HR-V FWD</value></menuItem><menuItem><text>Odyssey</text><value>Odyssey</value></menuItem><menuItem><text>Passport AWD</text><value>Passport AWD</value></menuItem><menuItem><text>Pilot AWD</text><value>Pilot AWD</value></menuItem><menuItem><text>Pilot AWD Touring/Elite/Black</text><value>Pilot AWD Touring/Elite/Black</value></menuItem><menuItem><text>Pilot AWD TrailSport</text><value>Pilot AWD TrailSport</value></menuItem><menuItem><text>Pilot FWD</text><value>Pilot FWD</value></menuItem></menuItems>'"
      ]
     },
     "execution_count": 61,
     "metadata": {},
     "output_type": "execute_result"
    }
   ],
   "source": [
    "my_response_model.text\n"
   ]
  },
  {
   "cell_type": "code",
   "execution_count": 7,
   "metadata": {},
   "outputs": [],
   "source": [
    "my_url_id = 'https://www.fueleconomy.gov/ws/rest/vehicle/menu/options?year=2012&make=Honda&model=Fit'\n",
    "my_response_id = requests.get(my_url_id)"
   ]
  },
  {
   "cell_type": "code",
   "execution_count": 8,
   "metadata": {},
   "outputs": [
    {
     "data": {
      "text/plain": [
       "'<?xml version=\"1.0\" encoding=\"UTF-8\" standalone=\"yes\"?><menuItems><menuItem><text>Auto (S5), 4 cyl, 1.5 L</text><value>31819</value></menuItem><menuItem><text>Auto 5-spd, 4 cyl, 1.5 L</text><value>31818</value></menuItem><menuItem><text>Man 5-spd, 4 cyl, 1.5 L</text><value>31817</value></menuItem></menuItems>'"
      ]
     },
     "execution_count": 8,
     "metadata": {},
     "output_type": "execute_result"
    }
   ],
   "source": [
    "my_response_id.text"
   ]
  },
  {
   "cell_type": "code",
   "execution_count": 9,
   "metadata": {},
   "outputs": [],
   "source": [
    "my_url_record = 'https://www.fueleconomy.gov/ws/rest/vehicle/1'\n",
    "response_record = requests.get(my_url_record)"
   ]
  },
  {
   "cell_type": "code",
   "execution_count": 10,
   "metadata": {},
   "outputs": [
    {
     "data": {
      "text/plain": [
       "'<?xml version=\"1.0\" encoding=\"UTF-8\" standalone=\"yes\"?><vehicle><atvType></atvType><barrels08>14.167142857142858</barrels08><barrelsA08>0.0</barrelsA08><c240Dscr></c240Dscr><c240bDscr></c240bDscr><charge120>0.0</charge120><charge240>0.0</charge240><charge240b>0.0</charge240b><city08>19</city08><city08U>0.0</city08U><cityA08>0</cityA08><cityA08U>0.0</cityA08U><cityCD>0.0</cityCD><cityE>0.0</cityE><cityUF>0.0</cityUF><co2>-1</co2><co2A>-1</co2A><co2TailpipeAGpm>0.0</co2TailpipeAGpm><co2TailpipeGpm>423.1904761904762</co2TailpipeGpm><comb08>21</comb08><comb08U>0.0</comb08U><combA08>0</combA08><combA08U>0.0</combA08U><combE>0.0</combE><combinedCD>0.0</combinedCD><combinedUF>0.0</combinedUF><createdOn>2013-01-01T00:00:00-05:00</createdOn><cylinders>4</cylinders><displ>2.0</displ><drive>Rear-Wheel Drive</drive><emissionsList/><engId>9011</engId><eng_dscr>(FFS)</eng_dscr><evMotor></evMotor><feScore>-1</feScore><fuelCost08>2500</fuelCost08><fuelCostA08>0</fuelCostA08><fuelType>Regular</fuelType><fuelType1>Regular Gasoline</fuelType1><fuelType2></fuelType2><ghgScore>-1</ghgScore><ghgScoreA>-1</ghgScoreA><guzzler></guzzler><highway08>25</highway08><highway08U>0.0</highway08U><highwayA08>0</highwayA08><highwayA08U>0.0</highwayA08U><highwayCD>0.0</highwayCD><highwayE>0.0</highwayE><highwayUF>0.0</highwayUF><hlv>0</hlv><hpv>0</hpv><id>1</id><lv2>0</lv2><lv4>0</lv4><make>Alfa Romeo</make><mfrCode></mfrCode><model>Spider Veloce 2000</model><modifiedOn>2013-01-01T00:00:00-05:00</modifiedOn><mpgData>Y</mpgData><mpgRevised>true</mpgRevised><phevBlended>false</phevBlended><phevCity>0</phevCity><phevComb>0</phevComb><phevHwy>0</phevHwy><pv2>0</pv2><pv4>0</pv4><range>0</range><rangeA></rangeA><rangeCity>0.0</rangeCity><rangeCityA>0.0</rangeCityA><rangeHwy>0.0</rangeHwy><rangeHwyA>0.0</rangeHwyA><startStop></startStop><trans_dscr></trans_dscr><trany>Manual 5-spd</trany><UCity>23.3333</UCity><UCityA>0.0</UCityA><UHighway>35.0</UHighway><UHighwayA>0.0</UHighwayA><VClass>Two Seaters</VClass><year>1985</year><youSaveSpend>-3250</youSaveSpend><baseModel>Spider</baseModel><sCharger></sCharger><tCharger></tCharger></vehicle>'"
      ]
     },
     "execution_count": 10,
     "metadata": {},
     "output_type": "execute_result"
    }
   ],
   "source": [
    "response_record.text"
   ]
  },
  {
   "cell_type": "code",
   "execution_count": 2,
   "metadata": {},
   "outputs": [],
   "source": [
    "import requests\n",
    "import xml.etree.ElementTree as ET\n",
    "import sqlite3\n",
    "import time\n",
    "\n",
    "def parse_xml(xml_data, tag):\n",
    "    root = ET.fromstring(xml_data)\n",
    "    items = [(item.find('text').text, item.find('value').text) for item in root.findall(tag)]\n",
    "    return items\n",
    "\n",
    "# Connect to SQLite database\n",
    "conn = sqlite3.connect('fuel_data.db')\n",
    "c = conn.cursor()\n",
    "\n",
    "\n",
    "\n"
   ]
  },
  {
   "cell_type": "code",
   "execution_count": 3,
   "metadata": {},
   "outputs": [
    {
     "data": {
      "text/plain": [
       "<sqlite3.Cursor at 0x2194d29dbc0>"
      ]
     },
     "execution_count": 3,
     "metadata": {},
     "output_type": "execute_result"
    }
   ],
   "source": [
    "c.execute('''SELECT * FROM vehicle_data''')"
   ]
  },
  {
   "cell_type": "markdown",
   "metadata": {},
   "source": [
    "IF YOU NEED TO DELETE THE TABLE\n",
    "DON'T RUN PLEASE\n",
    "c.execute('''DROP TABLE IF EXISTS vehicle_data''')\n"
   ]
  },
  {
   "cell_type": "code",
   "execution_count": 5,
   "metadata": {},
   "outputs": [
    {
     "data": {
      "text/plain": [
       "<sqlite3.Cursor at 0x2194d29dbc0>"
      ]
     },
     "execution_count": 5,
     "metadata": {},
     "output_type": "execute_result"
    }
   ],
   "source": [
    "# Update the table to include vehicle options and IDs\n",
    "c.execute('''CREATE TABLE IF NOT EXISTS vehicle_data (\n",
    "                     vehicle_id TEXT PRIMARY KEY,\n",
    "                     year TEXT,\n",
    "                     make TEXT,\n",
    "                     model TEXT,\n",
    "                     option TEXT\n",
    "                 )''')\n",
    "\n"
   ]
  },
  {
   "cell_type": "code",
   "execution_count": 3,
   "metadata": {},
   "outputs": [],
   "source": [
    "# Connect to SQLite database\n",
    "conn = sqlite3.connect('fuel_data.db')\n",
    "c = conn.cursor()"
   ]
  },
  {
   "cell_type": "code",
   "execution_count": 4,
   "metadata": {},
   "outputs": [
    {
     "ename": "KeyboardInterrupt",
     "evalue": "",
     "output_type": "error",
     "traceback": [
      "\u001b[1;31m---------------------------------------------------------------------------\u001b[0m",
      "\u001b[1;31mKeyboardInterrupt\u001b[0m                         Traceback (most recent call last)",
      "Cell \u001b[1;32mIn[4], line 11\u001b[0m\n\u001b[0;32m      6\u001b[0m \u001b[38;5;28;01mfor\u001b[39;00m year \u001b[38;5;129;01min\u001b[39;00m years:\n\u001b[0;32m      7\u001b[0m     \u001b[38;5;66;03m#time.sleep(.1)  # Delay for API rate limit\u001b[39;00m\n\u001b[0;32m      8\u001b[0m \n\u001b[0;32m      9\u001b[0m     \u001b[38;5;66;03m# API call for each year to get the list of makes\u001b[39;00m\n\u001b[0;32m     10\u001b[0m     url_makes \u001b[38;5;241m=\u001b[39m \u001b[38;5;124mf\u001b[39m\u001b[38;5;124m'\u001b[39m\u001b[38;5;124mhttps://www.fueleconomy.gov/ws/rest/vehicle/menu/make?year=\u001b[39m\u001b[38;5;132;01m{\u001b[39;00myear\u001b[38;5;132;01m}\u001b[39;00m\u001b[38;5;124m'\u001b[39m\n\u001b[1;32m---> 11\u001b[0m     response_makes \u001b[38;5;241m=\u001b[39m \u001b[43mrequests\u001b[49m\u001b[38;5;241;43m.\u001b[39;49m\u001b[43mget\u001b[49m\u001b[43m(\u001b[49m\u001b[43murl_makes\u001b[49m\u001b[43m)\u001b[49m\n\u001b[0;32m     12\u001b[0m     makes \u001b[38;5;241m=\u001b[39m parse_xml(response_makes\u001b[38;5;241m.\u001b[39mtext, \u001b[38;5;124m'\u001b[39m\u001b[38;5;124mmenuItem\u001b[39m\u001b[38;5;124m'\u001b[39m)\n\u001b[0;32m     13\u001b[0m     \u001b[38;5;66;03m#print(f'Years:{years}')\u001b[39;00m\n\u001b[0;32m     14\u001b[0m     \u001b[38;5;66;03m#print(f'Makes {makes}')\u001b[39;00m\n\u001b[0;32m     15\u001b[0m     \u001b[38;5;66;03m#print(type(makes))\u001b[39;00m\n\u001b[0;32m     16\u001b[0m     \u001b[38;5;66;03m#print(len(makes))\u001b[39;00m\n",
      "File \u001b[1;32mc:\\Users\\ricar\\AppData\\Local\\Programs\\Python\\Python312\\Lib\\site-packages\\requests\\api.py:73\u001b[0m, in \u001b[0;36mget\u001b[1;34m(url, params, **kwargs)\u001b[0m\n\u001b[0;32m     62\u001b[0m \u001b[38;5;28;01mdef\u001b[39;00m \u001b[38;5;21mget\u001b[39m(url, params\u001b[38;5;241m=\u001b[39m\u001b[38;5;28;01mNone\u001b[39;00m, \u001b[38;5;241m*\u001b[39m\u001b[38;5;241m*\u001b[39mkwargs):\n\u001b[0;32m     63\u001b[0m \u001b[38;5;250m    \u001b[39m\u001b[38;5;124mr\u001b[39m\u001b[38;5;124;03m\"\"\"Sends a GET request.\u001b[39;00m\n\u001b[0;32m     64\u001b[0m \n\u001b[0;32m     65\u001b[0m \u001b[38;5;124;03m    :param url: URL for the new :class:`Request` object.\u001b[39;00m\n\u001b[1;32m   (...)\u001b[0m\n\u001b[0;32m     70\u001b[0m \u001b[38;5;124;03m    :rtype: requests.Response\u001b[39;00m\n\u001b[0;32m     71\u001b[0m \u001b[38;5;124;03m    \"\"\"\u001b[39;00m\n\u001b[1;32m---> 73\u001b[0m     \u001b[38;5;28;01mreturn\u001b[39;00m \u001b[43mrequest\u001b[49m\u001b[43m(\u001b[49m\u001b[38;5;124;43m\"\u001b[39;49m\u001b[38;5;124;43mget\u001b[39;49m\u001b[38;5;124;43m\"\u001b[39;49m\u001b[43m,\u001b[49m\u001b[43m \u001b[49m\u001b[43murl\u001b[49m\u001b[43m,\u001b[49m\u001b[43m \u001b[49m\u001b[43mparams\u001b[49m\u001b[38;5;241;43m=\u001b[39;49m\u001b[43mparams\u001b[49m\u001b[43m,\u001b[49m\u001b[43m \u001b[49m\u001b[38;5;241;43m*\u001b[39;49m\u001b[38;5;241;43m*\u001b[39;49m\u001b[43mkwargs\u001b[49m\u001b[43m)\u001b[49m\n",
      "File \u001b[1;32mc:\\Users\\ricar\\AppData\\Local\\Programs\\Python\\Python312\\Lib\\site-packages\\requests\\api.py:59\u001b[0m, in \u001b[0;36mrequest\u001b[1;34m(method, url, **kwargs)\u001b[0m\n\u001b[0;32m     55\u001b[0m \u001b[38;5;66;03m# By using the 'with' statement we are sure the session is closed, thus we\u001b[39;00m\n\u001b[0;32m     56\u001b[0m \u001b[38;5;66;03m# avoid leaving sockets open which can trigger a ResourceWarning in some\u001b[39;00m\n\u001b[0;32m     57\u001b[0m \u001b[38;5;66;03m# cases, and look like a memory leak in others.\u001b[39;00m\n\u001b[0;32m     58\u001b[0m \u001b[38;5;28;01mwith\u001b[39;00m sessions\u001b[38;5;241m.\u001b[39mSession() \u001b[38;5;28;01mas\u001b[39;00m session:\n\u001b[1;32m---> 59\u001b[0m     \u001b[38;5;28;01mreturn\u001b[39;00m \u001b[43msession\u001b[49m\u001b[38;5;241;43m.\u001b[39;49m\u001b[43mrequest\u001b[49m\u001b[43m(\u001b[49m\u001b[43mmethod\u001b[49m\u001b[38;5;241;43m=\u001b[39;49m\u001b[43mmethod\u001b[49m\u001b[43m,\u001b[49m\u001b[43m \u001b[49m\u001b[43murl\u001b[49m\u001b[38;5;241;43m=\u001b[39;49m\u001b[43murl\u001b[49m\u001b[43m,\u001b[49m\u001b[43m \u001b[49m\u001b[38;5;241;43m*\u001b[39;49m\u001b[38;5;241;43m*\u001b[39;49m\u001b[43mkwargs\u001b[49m\u001b[43m)\u001b[49m\n",
      "File \u001b[1;32mc:\\Users\\ricar\\AppData\\Local\\Programs\\Python\\Python312\\Lib\\site-packages\\requests\\sessions.py:589\u001b[0m, in \u001b[0;36mSession.request\u001b[1;34m(self, method, url, params, data, headers, cookies, files, auth, timeout, allow_redirects, proxies, hooks, stream, verify, cert, json)\u001b[0m\n\u001b[0;32m    584\u001b[0m send_kwargs \u001b[38;5;241m=\u001b[39m {\n\u001b[0;32m    585\u001b[0m     \u001b[38;5;124m\"\u001b[39m\u001b[38;5;124mtimeout\u001b[39m\u001b[38;5;124m\"\u001b[39m: timeout,\n\u001b[0;32m    586\u001b[0m     \u001b[38;5;124m\"\u001b[39m\u001b[38;5;124mallow_redirects\u001b[39m\u001b[38;5;124m\"\u001b[39m: allow_redirects,\n\u001b[0;32m    587\u001b[0m }\n\u001b[0;32m    588\u001b[0m send_kwargs\u001b[38;5;241m.\u001b[39mupdate(settings)\n\u001b[1;32m--> 589\u001b[0m resp \u001b[38;5;241m=\u001b[39m \u001b[38;5;28;43mself\u001b[39;49m\u001b[38;5;241;43m.\u001b[39;49m\u001b[43msend\u001b[49m\u001b[43m(\u001b[49m\u001b[43mprep\u001b[49m\u001b[43m,\u001b[49m\u001b[43m \u001b[49m\u001b[38;5;241;43m*\u001b[39;49m\u001b[38;5;241;43m*\u001b[39;49m\u001b[43msend_kwargs\u001b[49m\u001b[43m)\u001b[49m\n\u001b[0;32m    591\u001b[0m \u001b[38;5;28;01mreturn\u001b[39;00m resp\n",
      "File \u001b[1;32mc:\\Users\\ricar\\AppData\\Local\\Programs\\Python\\Python312\\Lib\\site-packages\\requests\\sessions.py:703\u001b[0m, in \u001b[0;36mSession.send\u001b[1;34m(self, request, **kwargs)\u001b[0m\n\u001b[0;32m    700\u001b[0m start \u001b[38;5;241m=\u001b[39m preferred_clock()\n\u001b[0;32m    702\u001b[0m \u001b[38;5;66;03m# Send the request\u001b[39;00m\n\u001b[1;32m--> 703\u001b[0m r \u001b[38;5;241m=\u001b[39m \u001b[43madapter\u001b[49m\u001b[38;5;241;43m.\u001b[39;49m\u001b[43msend\u001b[49m\u001b[43m(\u001b[49m\u001b[43mrequest\u001b[49m\u001b[43m,\u001b[49m\u001b[43m \u001b[49m\u001b[38;5;241;43m*\u001b[39;49m\u001b[38;5;241;43m*\u001b[39;49m\u001b[43mkwargs\u001b[49m\u001b[43m)\u001b[49m\n\u001b[0;32m    705\u001b[0m \u001b[38;5;66;03m# Total elapsed time of the request (approximately)\u001b[39;00m\n\u001b[0;32m    706\u001b[0m elapsed \u001b[38;5;241m=\u001b[39m preferred_clock() \u001b[38;5;241m-\u001b[39m start\n",
      "File \u001b[1;32mc:\\Users\\ricar\\AppData\\Local\\Programs\\Python\\Python312\\Lib\\site-packages\\requests\\adapters.py:486\u001b[0m, in \u001b[0;36mHTTPAdapter.send\u001b[1;34m(self, request, stream, timeout, verify, cert, proxies)\u001b[0m\n\u001b[0;32m    483\u001b[0m     timeout \u001b[38;5;241m=\u001b[39m TimeoutSauce(connect\u001b[38;5;241m=\u001b[39mtimeout, read\u001b[38;5;241m=\u001b[39mtimeout)\n\u001b[0;32m    485\u001b[0m \u001b[38;5;28;01mtry\u001b[39;00m:\n\u001b[1;32m--> 486\u001b[0m     resp \u001b[38;5;241m=\u001b[39m \u001b[43mconn\u001b[49m\u001b[38;5;241;43m.\u001b[39;49m\u001b[43murlopen\u001b[49m\u001b[43m(\u001b[49m\n\u001b[0;32m    487\u001b[0m \u001b[43m        \u001b[49m\u001b[43mmethod\u001b[49m\u001b[38;5;241;43m=\u001b[39;49m\u001b[43mrequest\u001b[49m\u001b[38;5;241;43m.\u001b[39;49m\u001b[43mmethod\u001b[49m\u001b[43m,\u001b[49m\n\u001b[0;32m    488\u001b[0m \u001b[43m        \u001b[49m\u001b[43murl\u001b[49m\u001b[38;5;241;43m=\u001b[39;49m\u001b[43murl\u001b[49m\u001b[43m,\u001b[49m\n\u001b[0;32m    489\u001b[0m \u001b[43m        \u001b[49m\u001b[43mbody\u001b[49m\u001b[38;5;241;43m=\u001b[39;49m\u001b[43mrequest\u001b[49m\u001b[38;5;241;43m.\u001b[39;49m\u001b[43mbody\u001b[49m\u001b[43m,\u001b[49m\n\u001b[0;32m    490\u001b[0m \u001b[43m        \u001b[49m\u001b[43mheaders\u001b[49m\u001b[38;5;241;43m=\u001b[39;49m\u001b[43mrequest\u001b[49m\u001b[38;5;241;43m.\u001b[39;49m\u001b[43mheaders\u001b[49m\u001b[43m,\u001b[49m\n\u001b[0;32m    491\u001b[0m \u001b[43m        \u001b[49m\u001b[43mredirect\u001b[49m\u001b[38;5;241;43m=\u001b[39;49m\u001b[38;5;28;43;01mFalse\u001b[39;49;00m\u001b[43m,\u001b[49m\n\u001b[0;32m    492\u001b[0m \u001b[43m        \u001b[49m\u001b[43massert_same_host\u001b[49m\u001b[38;5;241;43m=\u001b[39;49m\u001b[38;5;28;43;01mFalse\u001b[39;49;00m\u001b[43m,\u001b[49m\n\u001b[0;32m    493\u001b[0m \u001b[43m        \u001b[49m\u001b[43mpreload_content\u001b[49m\u001b[38;5;241;43m=\u001b[39;49m\u001b[38;5;28;43;01mFalse\u001b[39;49;00m\u001b[43m,\u001b[49m\n\u001b[0;32m    494\u001b[0m \u001b[43m        \u001b[49m\u001b[43mdecode_content\u001b[49m\u001b[38;5;241;43m=\u001b[39;49m\u001b[38;5;28;43;01mFalse\u001b[39;49;00m\u001b[43m,\u001b[49m\n\u001b[0;32m    495\u001b[0m \u001b[43m        \u001b[49m\u001b[43mretries\u001b[49m\u001b[38;5;241;43m=\u001b[39;49m\u001b[38;5;28;43mself\u001b[39;49m\u001b[38;5;241;43m.\u001b[39;49m\u001b[43mmax_retries\u001b[49m\u001b[43m,\u001b[49m\n\u001b[0;32m    496\u001b[0m \u001b[43m        \u001b[49m\u001b[43mtimeout\u001b[49m\u001b[38;5;241;43m=\u001b[39;49m\u001b[43mtimeout\u001b[49m\u001b[43m,\u001b[49m\n\u001b[0;32m    497\u001b[0m \u001b[43m        \u001b[49m\u001b[43mchunked\u001b[49m\u001b[38;5;241;43m=\u001b[39;49m\u001b[43mchunked\u001b[49m\u001b[43m,\u001b[49m\n\u001b[0;32m    498\u001b[0m \u001b[43m    \u001b[49m\u001b[43m)\u001b[49m\n\u001b[0;32m    500\u001b[0m \u001b[38;5;28;01mexcept\u001b[39;00m (ProtocolError, \u001b[38;5;167;01mOSError\u001b[39;00m) \u001b[38;5;28;01mas\u001b[39;00m err:\n\u001b[0;32m    501\u001b[0m     \u001b[38;5;28;01mraise\u001b[39;00m \u001b[38;5;167;01mConnectionError\u001b[39;00m(err, request\u001b[38;5;241m=\u001b[39mrequest)\n",
      "File \u001b[1;32mc:\\Users\\ricar\\AppData\\Local\\Programs\\Python\\Python312\\Lib\\site-packages\\urllib3\\connectionpool.py:790\u001b[0m, in \u001b[0;36mHTTPConnectionPool.urlopen\u001b[1;34m(self, method, url, body, headers, retries, redirect, assert_same_host, timeout, pool_timeout, release_conn, chunked, body_pos, preload_content, decode_content, **response_kw)\u001b[0m\n\u001b[0;32m    787\u001b[0m response_conn \u001b[38;5;241m=\u001b[39m conn \u001b[38;5;28;01mif\u001b[39;00m \u001b[38;5;129;01mnot\u001b[39;00m release_conn \u001b[38;5;28;01melse\u001b[39;00m \u001b[38;5;28;01mNone\u001b[39;00m\n\u001b[0;32m    789\u001b[0m \u001b[38;5;66;03m# Make the request on the HTTPConnection object\u001b[39;00m\n\u001b[1;32m--> 790\u001b[0m response \u001b[38;5;241m=\u001b[39m \u001b[38;5;28;43mself\u001b[39;49m\u001b[38;5;241;43m.\u001b[39;49m\u001b[43m_make_request\u001b[49m\u001b[43m(\u001b[49m\n\u001b[0;32m    791\u001b[0m \u001b[43m    \u001b[49m\u001b[43mconn\u001b[49m\u001b[43m,\u001b[49m\n\u001b[0;32m    792\u001b[0m \u001b[43m    \u001b[49m\u001b[43mmethod\u001b[49m\u001b[43m,\u001b[49m\n\u001b[0;32m    793\u001b[0m \u001b[43m    \u001b[49m\u001b[43murl\u001b[49m\u001b[43m,\u001b[49m\n\u001b[0;32m    794\u001b[0m \u001b[43m    \u001b[49m\u001b[43mtimeout\u001b[49m\u001b[38;5;241;43m=\u001b[39;49m\u001b[43mtimeout_obj\u001b[49m\u001b[43m,\u001b[49m\n\u001b[0;32m    795\u001b[0m \u001b[43m    \u001b[49m\u001b[43mbody\u001b[49m\u001b[38;5;241;43m=\u001b[39;49m\u001b[43mbody\u001b[49m\u001b[43m,\u001b[49m\n\u001b[0;32m    796\u001b[0m \u001b[43m    \u001b[49m\u001b[43mheaders\u001b[49m\u001b[38;5;241;43m=\u001b[39;49m\u001b[43mheaders\u001b[49m\u001b[43m,\u001b[49m\n\u001b[0;32m    797\u001b[0m \u001b[43m    \u001b[49m\u001b[43mchunked\u001b[49m\u001b[38;5;241;43m=\u001b[39;49m\u001b[43mchunked\u001b[49m\u001b[43m,\u001b[49m\n\u001b[0;32m    798\u001b[0m \u001b[43m    \u001b[49m\u001b[43mretries\u001b[49m\u001b[38;5;241;43m=\u001b[39;49m\u001b[43mretries\u001b[49m\u001b[43m,\u001b[49m\n\u001b[0;32m    799\u001b[0m \u001b[43m    \u001b[49m\u001b[43mresponse_conn\u001b[49m\u001b[38;5;241;43m=\u001b[39;49m\u001b[43mresponse_conn\u001b[49m\u001b[43m,\u001b[49m\n\u001b[0;32m    800\u001b[0m \u001b[43m    \u001b[49m\u001b[43mpreload_content\u001b[49m\u001b[38;5;241;43m=\u001b[39;49m\u001b[43mpreload_content\u001b[49m\u001b[43m,\u001b[49m\n\u001b[0;32m    801\u001b[0m \u001b[43m    \u001b[49m\u001b[43mdecode_content\u001b[49m\u001b[38;5;241;43m=\u001b[39;49m\u001b[43mdecode_content\u001b[49m\u001b[43m,\u001b[49m\n\u001b[0;32m    802\u001b[0m \u001b[43m    \u001b[49m\u001b[38;5;241;43m*\u001b[39;49m\u001b[38;5;241;43m*\u001b[39;49m\u001b[43mresponse_kw\u001b[49m\u001b[43m,\u001b[49m\n\u001b[0;32m    803\u001b[0m \u001b[43m\u001b[49m\u001b[43m)\u001b[49m\n\u001b[0;32m    805\u001b[0m \u001b[38;5;66;03m# Everything went great!\u001b[39;00m\n\u001b[0;32m    806\u001b[0m clean_exit \u001b[38;5;241m=\u001b[39m \u001b[38;5;28;01mTrue\u001b[39;00m\n",
      "File \u001b[1;32mc:\\Users\\ricar\\AppData\\Local\\Programs\\Python\\Python312\\Lib\\site-packages\\urllib3\\connectionpool.py:467\u001b[0m, in \u001b[0;36mHTTPConnectionPool._make_request\u001b[1;34m(self, conn, method, url, body, headers, retries, timeout, chunked, response_conn, preload_content, decode_content, enforce_content_length)\u001b[0m\n\u001b[0;32m    464\u001b[0m \u001b[38;5;28;01mtry\u001b[39;00m:\n\u001b[0;32m    465\u001b[0m     \u001b[38;5;66;03m# Trigger any extra validation we need to do.\u001b[39;00m\n\u001b[0;32m    466\u001b[0m     \u001b[38;5;28;01mtry\u001b[39;00m:\n\u001b[1;32m--> 467\u001b[0m         \u001b[38;5;28;43mself\u001b[39;49m\u001b[38;5;241;43m.\u001b[39;49m\u001b[43m_validate_conn\u001b[49m\u001b[43m(\u001b[49m\u001b[43mconn\u001b[49m\u001b[43m)\u001b[49m\n\u001b[0;32m    468\u001b[0m     \u001b[38;5;28;01mexcept\u001b[39;00m (SocketTimeout, BaseSSLError) \u001b[38;5;28;01mas\u001b[39;00m e:\n\u001b[0;32m    469\u001b[0m         \u001b[38;5;28mself\u001b[39m\u001b[38;5;241m.\u001b[39m_raise_timeout(err\u001b[38;5;241m=\u001b[39me, url\u001b[38;5;241m=\u001b[39murl, timeout_value\u001b[38;5;241m=\u001b[39mconn\u001b[38;5;241m.\u001b[39mtimeout)\n",
      "File \u001b[1;32mc:\\Users\\ricar\\AppData\\Local\\Programs\\Python\\Python312\\Lib\\site-packages\\urllib3\\connectionpool.py:1096\u001b[0m, in \u001b[0;36mHTTPSConnectionPool._validate_conn\u001b[1;34m(self, conn)\u001b[0m\n\u001b[0;32m   1094\u001b[0m \u001b[38;5;66;03m# Force connect early to allow us to validate the connection.\u001b[39;00m\n\u001b[0;32m   1095\u001b[0m \u001b[38;5;28;01mif\u001b[39;00m conn\u001b[38;5;241m.\u001b[39mis_closed:\n\u001b[1;32m-> 1096\u001b[0m     \u001b[43mconn\u001b[49m\u001b[38;5;241;43m.\u001b[39;49m\u001b[43mconnect\u001b[49m\u001b[43m(\u001b[49m\u001b[43m)\u001b[49m\n\u001b[0;32m   1098\u001b[0m \u001b[38;5;28;01mif\u001b[39;00m \u001b[38;5;129;01mnot\u001b[39;00m conn\u001b[38;5;241m.\u001b[39mis_verified:\n\u001b[0;32m   1099\u001b[0m     warnings\u001b[38;5;241m.\u001b[39mwarn(\n\u001b[0;32m   1100\u001b[0m         (\n\u001b[0;32m   1101\u001b[0m             \u001b[38;5;124mf\u001b[39m\u001b[38;5;124m\"\u001b[39m\u001b[38;5;124mUnverified HTTPS request is being made to host \u001b[39m\u001b[38;5;124m'\u001b[39m\u001b[38;5;132;01m{\u001b[39;00mconn\u001b[38;5;241m.\u001b[39mhost\u001b[38;5;132;01m}\u001b[39;00m\u001b[38;5;124m'\u001b[39m\u001b[38;5;124m. \u001b[39m\u001b[38;5;124m\"\u001b[39m\n\u001b[1;32m   (...)\u001b[0m\n\u001b[0;32m   1106\u001b[0m         InsecureRequestWarning,\n\u001b[0;32m   1107\u001b[0m     )\n",
      "File \u001b[1;32mc:\\Users\\ricar\\AppData\\Local\\Programs\\Python\\Python312\\Lib\\site-packages\\urllib3\\connection.py:642\u001b[0m, in \u001b[0;36mHTTPSConnection.connect\u001b[1;34m(self)\u001b[0m\n\u001b[0;32m    633\u001b[0m \u001b[38;5;28;01mif\u001b[39;00m is_time_off:\n\u001b[0;32m    634\u001b[0m     warnings\u001b[38;5;241m.\u001b[39mwarn(\n\u001b[0;32m    635\u001b[0m         (\n\u001b[0;32m    636\u001b[0m             \u001b[38;5;124mf\u001b[39m\u001b[38;5;124m\"\u001b[39m\u001b[38;5;124mSystem time is way off (before \u001b[39m\u001b[38;5;132;01m{\u001b[39;00mRECENT_DATE\u001b[38;5;132;01m}\u001b[39;00m\u001b[38;5;124m). This will probably \u001b[39m\u001b[38;5;124m\"\u001b[39m\n\u001b[1;32m   (...)\u001b[0m\n\u001b[0;32m    639\u001b[0m         SystemTimeWarning,\n\u001b[0;32m    640\u001b[0m     )\n\u001b[1;32m--> 642\u001b[0m sock_and_verified \u001b[38;5;241m=\u001b[39m \u001b[43m_ssl_wrap_socket_and_match_hostname\u001b[49m\u001b[43m(\u001b[49m\n\u001b[0;32m    643\u001b[0m \u001b[43m    \u001b[49m\u001b[43msock\u001b[49m\u001b[38;5;241;43m=\u001b[39;49m\u001b[43msock\u001b[49m\u001b[43m,\u001b[49m\n\u001b[0;32m    644\u001b[0m \u001b[43m    \u001b[49m\u001b[43mcert_reqs\u001b[49m\u001b[38;5;241;43m=\u001b[39;49m\u001b[38;5;28;43mself\u001b[39;49m\u001b[38;5;241;43m.\u001b[39;49m\u001b[43mcert_reqs\u001b[49m\u001b[43m,\u001b[49m\n\u001b[0;32m    645\u001b[0m \u001b[43m    \u001b[49m\u001b[43mssl_version\u001b[49m\u001b[38;5;241;43m=\u001b[39;49m\u001b[38;5;28;43mself\u001b[39;49m\u001b[38;5;241;43m.\u001b[39;49m\u001b[43mssl_version\u001b[49m\u001b[43m,\u001b[49m\n\u001b[0;32m    646\u001b[0m \u001b[43m    \u001b[49m\u001b[43mssl_minimum_version\u001b[49m\u001b[38;5;241;43m=\u001b[39;49m\u001b[38;5;28;43mself\u001b[39;49m\u001b[38;5;241;43m.\u001b[39;49m\u001b[43mssl_minimum_version\u001b[49m\u001b[43m,\u001b[49m\n\u001b[0;32m    647\u001b[0m \u001b[43m    \u001b[49m\u001b[43mssl_maximum_version\u001b[49m\u001b[38;5;241;43m=\u001b[39;49m\u001b[38;5;28;43mself\u001b[39;49m\u001b[38;5;241;43m.\u001b[39;49m\u001b[43mssl_maximum_version\u001b[49m\u001b[43m,\u001b[49m\n\u001b[0;32m    648\u001b[0m \u001b[43m    \u001b[49m\u001b[43mca_certs\u001b[49m\u001b[38;5;241;43m=\u001b[39;49m\u001b[38;5;28;43mself\u001b[39;49m\u001b[38;5;241;43m.\u001b[39;49m\u001b[43mca_certs\u001b[49m\u001b[43m,\u001b[49m\n\u001b[0;32m    649\u001b[0m \u001b[43m    \u001b[49m\u001b[43mca_cert_dir\u001b[49m\u001b[38;5;241;43m=\u001b[39;49m\u001b[38;5;28;43mself\u001b[39;49m\u001b[38;5;241;43m.\u001b[39;49m\u001b[43mca_cert_dir\u001b[49m\u001b[43m,\u001b[49m\n\u001b[0;32m    650\u001b[0m \u001b[43m    \u001b[49m\u001b[43mca_cert_data\u001b[49m\u001b[38;5;241;43m=\u001b[39;49m\u001b[38;5;28;43mself\u001b[39;49m\u001b[38;5;241;43m.\u001b[39;49m\u001b[43mca_cert_data\u001b[49m\u001b[43m,\u001b[49m\n\u001b[0;32m    651\u001b[0m \u001b[43m    \u001b[49m\u001b[43mcert_file\u001b[49m\u001b[38;5;241;43m=\u001b[39;49m\u001b[38;5;28;43mself\u001b[39;49m\u001b[38;5;241;43m.\u001b[39;49m\u001b[43mcert_file\u001b[49m\u001b[43m,\u001b[49m\n\u001b[0;32m    652\u001b[0m \u001b[43m    \u001b[49m\u001b[43mkey_file\u001b[49m\u001b[38;5;241;43m=\u001b[39;49m\u001b[38;5;28;43mself\u001b[39;49m\u001b[38;5;241;43m.\u001b[39;49m\u001b[43mkey_file\u001b[49m\u001b[43m,\u001b[49m\n\u001b[0;32m    653\u001b[0m \u001b[43m    \u001b[49m\u001b[43mkey_password\u001b[49m\u001b[38;5;241;43m=\u001b[39;49m\u001b[38;5;28;43mself\u001b[39;49m\u001b[38;5;241;43m.\u001b[39;49m\u001b[43mkey_password\u001b[49m\u001b[43m,\u001b[49m\n\u001b[0;32m    654\u001b[0m \u001b[43m    \u001b[49m\u001b[43mserver_hostname\u001b[49m\u001b[38;5;241;43m=\u001b[39;49m\u001b[43mserver_hostname\u001b[49m\u001b[43m,\u001b[49m\n\u001b[0;32m    655\u001b[0m \u001b[43m    \u001b[49m\u001b[43mssl_context\u001b[49m\u001b[38;5;241;43m=\u001b[39;49m\u001b[38;5;28;43mself\u001b[39;49m\u001b[38;5;241;43m.\u001b[39;49m\u001b[43mssl_context\u001b[49m\u001b[43m,\u001b[49m\n\u001b[0;32m    656\u001b[0m \u001b[43m    \u001b[49m\u001b[43mtls_in_tls\u001b[49m\u001b[38;5;241;43m=\u001b[39;49m\u001b[43mtls_in_tls\u001b[49m\u001b[43m,\u001b[49m\n\u001b[0;32m    657\u001b[0m \u001b[43m    \u001b[49m\u001b[43massert_hostname\u001b[49m\u001b[38;5;241;43m=\u001b[39;49m\u001b[38;5;28;43mself\u001b[39;49m\u001b[38;5;241;43m.\u001b[39;49m\u001b[43massert_hostname\u001b[49m\u001b[43m,\u001b[49m\n\u001b[0;32m    658\u001b[0m \u001b[43m    \u001b[49m\u001b[43massert_fingerprint\u001b[49m\u001b[38;5;241;43m=\u001b[39;49m\u001b[38;5;28;43mself\u001b[39;49m\u001b[38;5;241;43m.\u001b[39;49m\u001b[43massert_fingerprint\u001b[49m\u001b[43m,\u001b[49m\n\u001b[0;32m    659\u001b[0m \u001b[43m\u001b[49m\u001b[43m)\u001b[49m\n\u001b[0;32m    660\u001b[0m \u001b[38;5;28mself\u001b[39m\u001b[38;5;241m.\u001b[39msock \u001b[38;5;241m=\u001b[39m sock_and_verified\u001b[38;5;241m.\u001b[39msocket\n\u001b[0;32m    661\u001b[0m \u001b[38;5;28mself\u001b[39m\u001b[38;5;241m.\u001b[39mis_verified \u001b[38;5;241m=\u001b[39m sock_and_verified\u001b[38;5;241m.\u001b[39mis_verified\n",
      "File \u001b[1;32mc:\\Users\\ricar\\AppData\\Local\\Programs\\Python\\Python312\\Lib\\site-packages\\urllib3\\connection.py:782\u001b[0m, in \u001b[0;36m_ssl_wrap_socket_and_match_hostname\u001b[1;34m(sock, cert_reqs, ssl_version, ssl_minimum_version, ssl_maximum_version, cert_file, key_file, key_password, ca_certs, ca_cert_dir, ca_cert_data, assert_hostname, assert_fingerprint, server_hostname, ssl_context, tls_in_tls)\u001b[0m\n\u001b[0;32m    779\u001b[0m     \u001b[38;5;28;01mif\u001b[39;00m is_ipaddress(normalized):\n\u001b[0;32m    780\u001b[0m         server_hostname \u001b[38;5;241m=\u001b[39m normalized\n\u001b[1;32m--> 782\u001b[0m ssl_sock \u001b[38;5;241m=\u001b[39m \u001b[43mssl_wrap_socket\u001b[49m\u001b[43m(\u001b[49m\n\u001b[0;32m    783\u001b[0m \u001b[43m    \u001b[49m\u001b[43msock\u001b[49m\u001b[38;5;241;43m=\u001b[39;49m\u001b[43msock\u001b[49m\u001b[43m,\u001b[49m\n\u001b[0;32m    784\u001b[0m \u001b[43m    \u001b[49m\u001b[43mkeyfile\u001b[49m\u001b[38;5;241;43m=\u001b[39;49m\u001b[43mkey_file\u001b[49m\u001b[43m,\u001b[49m\n\u001b[0;32m    785\u001b[0m \u001b[43m    \u001b[49m\u001b[43mcertfile\u001b[49m\u001b[38;5;241;43m=\u001b[39;49m\u001b[43mcert_file\u001b[49m\u001b[43m,\u001b[49m\n\u001b[0;32m    786\u001b[0m \u001b[43m    \u001b[49m\u001b[43mkey_password\u001b[49m\u001b[38;5;241;43m=\u001b[39;49m\u001b[43mkey_password\u001b[49m\u001b[43m,\u001b[49m\n\u001b[0;32m    787\u001b[0m \u001b[43m    \u001b[49m\u001b[43mca_certs\u001b[49m\u001b[38;5;241;43m=\u001b[39;49m\u001b[43mca_certs\u001b[49m\u001b[43m,\u001b[49m\n\u001b[0;32m    788\u001b[0m \u001b[43m    \u001b[49m\u001b[43mca_cert_dir\u001b[49m\u001b[38;5;241;43m=\u001b[39;49m\u001b[43mca_cert_dir\u001b[49m\u001b[43m,\u001b[49m\n\u001b[0;32m    789\u001b[0m \u001b[43m    \u001b[49m\u001b[43mca_cert_data\u001b[49m\u001b[38;5;241;43m=\u001b[39;49m\u001b[43mca_cert_data\u001b[49m\u001b[43m,\u001b[49m\n\u001b[0;32m    790\u001b[0m \u001b[43m    \u001b[49m\u001b[43mserver_hostname\u001b[49m\u001b[38;5;241;43m=\u001b[39;49m\u001b[43mserver_hostname\u001b[49m\u001b[43m,\u001b[49m\n\u001b[0;32m    791\u001b[0m \u001b[43m    \u001b[49m\u001b[43mssl_context\u001b[49m\u001b[38;5;241;43m=\u001b[39;49m\u001b[43mcontext\u001b[49m\u001b[43m,\u001b[49m\n\u001b[0;32m    792\u001b[0m \u001b[43m    \u001b[49m\u001b[43mtls_in_tls\u001b[49m\u001b[38;5;241;43m=\u001b[39;49m\u001b[43mtls_in_tls\u001b[49m\u001b[43m,\u001b[49m\n\u001b[0;32m    793\u001b[0m \u001b[43m\u001b[49m\u001b[43m)\u001b[49m\n\u001b[0;32m    795\u001b[0m \u001b[38;5;28;01mtry\u001b[39;00m:\n\u001b[0;32m    796\u001b[0m     \u001b[38;5;28;01mif\u001b[39;00m assert_fingerprint:\n",
      "File \u001b[1;32mc:\\Users\\ricar\\AppData\\Local\\Programs\\Python\\Python312\\Lib\\site-packages\\urllib3\\util\\ssl_.py:445\u001b[0m, in \u001b[0;36mssl_wrap_socket\u001b[1;34m(sock, keyfile, certfile, cert_reqs, ca_certs, server_hostname, ssl_version, ciphers, ssl_context, ca_cert_dir, key_password, ca_cert_data, tls_in_tls)\u001b[0m\n\u001b[0;32m    443\u001b[0m \u001b[38;5;28;01mif\u001b[39;00m ca_certs \u001b[38;5;129;01mor\u001b[39;00m ca_cert_dir \u001b[38;5;129;01mor\u001b[39;00m ca_cert_data:\n\u001b[0;32m    444\u001b[0m     \u001b[38;5;28;01mtry\u001b[39;00m:\n\u001b[1;32m--> 445\u001b[0m         \u001b[43mcontext\u001b[49m\u001b[38;5;241;43m.\u001b[39;49m\u001b[43mload_verify_locations\u001b[49m\u001b[43m(\u001b[49m\u001b[43mca_certs\u001b[49m\u001b[43m,\u001b[49m\u001b[43m \u001b[49m\u001b[43mca_cert_dir\u001b[49m\u001b[43m,\u001b[49m\u001b[43m \u001b[49m\u001b[43mca_cert_data\u001b[49m\u001b[43m)\u001b[49m\n\u001b[0;32m    446\u001b[0m     \u001b[38;5;28;01mexcept\u001b[39;00m \u001b[38;5;167;01mOSError\u001b[39;00m \u001b[38;5;28;01mas\u001b[39;00m e:\n\u001b[0;32m    447\u001b[0m         \u001b[38;5;28;01mraise\u001b[39;00m SSLError(e) \u001b[38;5;28;01mfrom\u001b[39;00m \u001b[38;5;21;01me\u001b[39;00m\n",
      "\u001b[1;31mKeyboardInterrupt\u001b[0m: "
     ]
    }
   ],
   "source": [
    "# API call to get the list of years\n",
    "url_years = 'https://www.fueleconomy.gov/ws/rest/vehicle/menu/year'\n",
    "response_years = requests.get(url_years)\n",
    "#years = parse_xml(response_years.text, 'menuItem')\n",
    "years = [2020]\n",
    "for year in years:\n",
    "    #time.sleep(.1)  # Delay for API rate limit\n",
    "\n",
    "    # API call for each year to get the list of makes\n",
    "    url_makes = f'https://www.fueleconomy.gov/ws/rest/vehicle/menu/make?year={year}'\n",
    "    response_makes = requests.get(url_makes)\n",
    "    makes = parse_xml(response_makes.text, 'menuItem')\n",
    "    #print(f'Years:{years}')\n",
    "    #print(f'Makes {makes}')\n",
    "    #print(type(makes))\n",
    "    #print(len(makes))\n",
    "\n",
    "    for make in makes:\n",
    "        #time.sleep(.1)  # Delay for API rate limit\n",
    "\n",
    "        # API call for each make to get the list of models\n",
    "        url_models = f'https://www.fueleconomy.gov/ws/rest/vehicle/menu/model?year={year}&make={make[0]}'\n",
    "        response_models = requests.get(url_models)\n",
    "        models = parse_xml(response_models.text, 'menuItem')\n",
    "        #print(f'Make:{make}')\n",
    "        #print(type(models))\n",
    "        #print(len(models))\n",
    "\n",
    "        for model in models:\n",
    "            #time.sleep(.1)  # Delay for API rate limit\n",
    "\n",
    "            # API call for each model to get the list of options and IDs\n",
    "            url_options = f'https://www.fueleconomy.gov/ws/rest/vehicle/menu/options?year={year}&make={make[0]}&model={model[0]}'\n",
    "            response_options = requests.get(url_options)\n",
    "            options = parse_xml(response_options.text, 'menuItem')\n",
    "            #print(f'Model: {model}')\n",
    "            for option, vehicle_id in options:\n",
    "                #print(f'Option:{option} ID: {vehicle_id}')\n",
    "                # Insert data into the database\n",
    "                c.execute('''INSERT OR IGNORE INTO vehicle_data (year, make, model, option, vehicle_id) \n",
    "                             VALUES (?, ?, ?, ?, ?)''', (year, make[0], model[0], option, vehicle_id))"
   ]
  },
  {
   "cell_type": "code",
   "execution_count": 5,
   "metadata": {},
   "outputs": [],
   "source": [
    "# Commit and close the database connection\n",
    "conn.commit()\n",
    "conn.close()\n"
   ]
  },
  {
   "cell_type": "code",
   "execution_count": 8,
   "metadata": {},
   "outputs": [],
   "source": [
    "conn = sqlite3.connect('fuel_data.db')\n",
    "c = conn.cursor()"
   ]
  },
  {
   "cell_type": "code",
   "execution_count": 9,
   "metadata": {},
   "outputs": [
    {
     "name": "stdout",
     "output_type": "stream",
     "text": [
      "  vehicle_id  year        make               model  \\\n",
      "0      26587  1984  Alfa Romeo           GT V6 2.5   \n",
      "1      27705  1984  Alfa Romeo           GT V6 2.5   \n",
      "2      26561  1984  Alfa Romeo  Spider Veloce 2000   \n",
      "3      27681  1984  Alfa Romeo  Spider Veloce 2000   \n",
      "4      27550  1984  AM General   DJ Po Vehicle 2WD   \n",
      "\n",
      "                                    option  \n",
      "0           Man 5-spd, 6 cyl, 2.5 L, (FFS)  \n",
      "1  Man 5-spd, 6 cyl, 2.5 L, (FFS) CA model  \n",
      "2           Man 5-spd, 4 cyl, 2.0 L, (FFS)  \n",
      "3  Man 5-spd, 4 cyl, 2.0 L, (FFS) CA model  \n",
      "4          Auto 3-spd, 4 cyl, 2.5 L, (FFS)  \n"
     ]
    }
   ],
   "source": [
    "conn = sqlite3.connect('fuel_data.db')\n",
    "\n",
    "# Query the database to get data\n",
    "query = \"SELECT * FROM vehicle_data\"\n",
    "df = pd.read_sql_query(query, conn)\n",
    "\n",
    "# Close the database connection\n",
    "conn.close()\n",
    "\n",
    "# Display the first few rows of the DataFrame\n",
    "print(df.head())"
   ]
  },
  {
   "cell_type": "code",
   "execution_count": null,
   "metadata": {},
   "outputs": [],
   "source": []
  },
  {
   "cell_type": "code",
   "execution_count": 6,
   "metadata": {},
   "outputs": [],
   "source": [
    "# Function to parse the detailed vehicle data from XML\n",
    "def parse_vehicle_data(xml_data):\n",
    "    root = ET.fromstring(xml_data)\n",
    "    data = {}\n",
    "    for child in root:\n",
    "        data[child.tag] = child.text\n",
    "    return data\n",
    "\n",
    "# Connect to SQLite database\n",
    "conn = sqlite3.connect('fuel_data.db')\n",
    "c = conn.cursor()\n",
    "\n",
    "  \n",
    "\n",
    "\n",
    "\n"
   ]
  },
  {
   "cell_type": "markdown",
   "metadata": {},
   "source": [
    "#Use to delete table if necessary\n",
    "\n",
    "c.execute('''DROP TABLE IF EXISTS vehicle_features''')"
   ]
  },
  {
   "cell_type": "code",
   "execution_count": 116,
   "metadata": {},
   "outputs": [
    {
     "data": {
      "text/plain": [
       "<sqlite3.Cursor at 0x1cd732addc0>"
      ]
     },
     "execution_count": 116,
     "metadata": {},
     "output_type": "execute_result"
    }
   ],
   "source": [
    "  # Create a new table for vehicle features\n",
    "c.execute('''\n",
    "        CREATE TABLE IF NOT EXISTS vehicle_features (\n",
    "            id TEXT PRIMARY KEY,\n",
    "            atvtype TEXT,\n",
    "            barrels08 TEXT,\n",
    "            barrelsA08 TEXT,\n",
    "            charge120 TEXT,\n",
    "            charge240 TEXT,\n",
    "            city08 TEXT,\n",
    "            city08U TEXT,\n",
    "            cityA08 TEXT,\n",
    "            cityA08U TEXT,\n",
    "            cityCD TEXT,\n",
    "            cityE TEXT,\n",
    "            cityUF TEXT,\n",
    "            co2 TEXT,\n",
    "            co2A TEXT,\n",
    "            co2TailpipeAGpm TEXT,\n",
    "            co2TailpipeGpm TEXT,\n",
    "            comb08 TEXT,\n",
    "            comb08U TEXT,\n",
    "            combA08 TEXT,\n",
    "            combA08U TEXT,\n",
    "            combE TEXT,\n",
    "            combinedCD TEXT,\n",
    "            combinedUF TEXT,\n",
    "            cylinders TEXT,\n",
    "            displ TEXT,\n",
    "            drive TEXT,\n",
    "            emissionsList TEXT,\n",
    "            engId TEXT,\n",
    "            eng_dscr TEXT,\n",
    "            evMotor TEXT,\n",
    "            feScore TEXT,\n",
    "            fuelCost08 TEXT,\n",
    "            fuelCostA08 TEXT,\n",
    "            fuelType TEXT,\n",
    "            fuelType1 TEXT,\n",
    "            fuelType2 TEXT,\n",
    "            ghgScore TEXT,\n",
    "            ghgScoreA TEXT,\n",
    "            guzzler TEXT,\n",
    "            highway08 TEXT,\n",
    "            highway08U TEXT,\n",
    "            highwayA08 TEXT,\n",
    "            highwayA08U TEXT,\n",
    "            highwayCD TEXT,\n",
    "            highwayE TEXT,\n",
    "            highwayUF TEXT,\n",
    "            hlv TEXT,\n",
    "            hpv TEXT,\n",
    "            lv2 TEXT,\n",
    "            lv4 TEXT,\n",
    "            make TEXT,\n",
    "            mfrCode TEXT,\n",
    "            model TEXT,\n",
    "            mpgData TEXT,\n",
    "            phevBlended TEXT,\n",
    "            pv2 TEXT,\n",
    "            pv4 TEXT,\n",
    "            rangeA TEXT,\n",
    "            rangeCityA TEXT,\n",
    "            rangeHwyA TEXT,\n",
    "            trans_dscr TEXT,\n",
    "            trany TEXT,\n",
    "            UCity TEXT,\n",
    "            UCityA TEXT,\n",
    "            UHighway TEXT,\n",
    "            UHighwayA TEXT,\n",
    "            VClass TEXT,\n",
    "            year TEXT,\n",
    "            youSaveSpend TEXT,\n",
    "            sCharger TEXT,\n",
    "            tCharger TEXT,\n",
    "            c240Dscr TEXT,\n",
    "            charge240b TEXT,\n",
    "            c240bDscr TEXT,\n",
    "            createdOn TEXT,\n",
    "            modifiedOn TEXT,\n",
    "            startStop TEXT,\n",
    "            phevCity TEXT,\n",
    "            phevHwy TEXT,\n",
    "            phevComb  TEXT,\n",
    "            basemodel TEXT\n",
    "        )\n",
    "''')"
   ]
  },
  {
   "cell_type": "code",
   "execution_count": 32,
   "metadata": {},
   "outputs": [],
   "source": [
    "# Connect to SQLite database\n",
    "conn = sqlite3.connect('fuel_data.db')\n",
    "c = conn.cursor()"
   ]
  },
  {
   "cell_type": "code",
   "execution_count": 33,
   "metadata": {},
   "outputs": [],
   "source": [
    "vehicle_ids = c.execute('SELECT DISTINCT vehicle_id FROM vehicle_data').fetchall()\n",
    "c.execute(\"PRAGMA table_info(vehicle_features)\")\n",
    "vehicle_features_columns = [row[1] for row in c.fetchall()]\n",
    "\n",
    "for vehicle_id in vehicle_ids:\n",
    "    vehicle_id = vehicle_id[0]  # Extract ID from tuple\n",
    "    #time.sleep(.1)  # Delay for API rate limit\n",
    "\n",
    "        # Check if vehicle_id is already in the vehicle_features table\n",
    "    c.execute('SELECT COUNT(*) FROM vehicle_features WHERE id = ?', (vehicle_id,))\n",
    "    if c.fetchone()[0] > 0:\n",
    "        # If vehicle_id is already in vehicle_features, skip it to speed up the process\n",
    "        continue\n",
    "\n",
    "    # API call for each vehicle ID\n",
    "    url_vehicle_details = f'https://www.fueleconomy.gov/ws/rest/vehicle/{vehicle_id}'\n",
    "    response_vehicle_details = requests.get(url_vehicle_details)\n",
    "    vehicle_details = parse_vehicle_data(response_vehicle_details.text)\n",
    "\n",
    "    # Prepare a tuple of values for insertion\n",
    "    values = tuple(vehicle_details.get(col, None) for col in vehicle_features_columns)\n",
    "\n",
    "    # Insert vehicle details into the database\n",
    "    c.execute('''INSERT OR IGNORE INTO vehicle_features VALUES (?, ?, ?, ?, ?, ?, ?, ?, ?, ?, ?, ?, ?, ?, ?, ?, ?, ?, ?, ?, ?, ?, ?, ?, ?, ?, \n",
    "              ?, ?, ?, ?, ?, ?, ?, ?, ?, ?, ?, ?, ?, ?, ?, ?, ?, ?, ?, ?, ?, ?, ?, ?, ?, ?, ?, ?, ?, ?, ?, ?, ?, ?, ?, ?, ?, ?, ?, \n",
    "              ?, ?, ?, ?, ?, ?, ?, ?, ?, ?, ?, ?, ?, ?, ?, ?, ?)''', values)"
   ]
  },
  {
   "cell_type": "code",
   "execution_count": 34,
   "metadata": {},
   "outputs": [],
   "source": [
    "# Commit and close the database connection\n",
    "conn.commit()\n",
    "conn.close()"
   ]
  },
  {
   "cell_type": "code",
   "execution_count": 113,
   "metadata": {},
   "outputs": [
    {
     "name": "stdout",
     "output_type": "stream",
     "text": [
      "      id atvtype           barrels08 barrelsA08 charge120 charge240 city08  \\\n",
      "0  13984    None  16.528333333333336        0.0       0.0       0.0     16   \n",
      "1  13985    None  16.528333333333336        0.0       0.0       0.0     16   \n",
      "2  13986    None              19.834        0.0       0.0       0.0     13   \n",
      "\n",
      "  city08U cityA08 cityA08U  ... c240Dscr charge240b c240bDscr  \\\n",
      "0     0.0       0      0.0  ...     None        0.0      None   \n",
      "1     0.0       0      0.0  ...     None        0.0      None   \n",
      "2     0.0       0      0.0  ...     None        0.0      None   \n",
      "\n",
      "                   createdOn                 modifiedOn startStop phevCity  \\\n",
      "0  2013-01-01T00:00:00-05:00  2013-01-01T00:00:00-05:00      None        0   \n",
      "1  2013-01-01T00:00:00-05:00  2013-01-01T00:00:00-05:00      None        0   \n",
      "2  2013-01-01T00:00:00-05:00  2013-01-01T00:00:00-05:00      None        0   \n",
      "\n",
      "  phevHwy phevComb basemodel  \n",
      "0       0        0      None  \n",
      "1       0        0      None  \n",
      "2       0        0      None  \n",
      "\n",
      "[3 rows x 82 columns]\n"
     ]
    }
   ],
   "source": [
    "conn = sqlite3.connect('fuel_data.db')\n",
    "\n",
    "# Query the database to get data\n",
    "query = \"SELECT * FROM vehicle_features\"\n",
    "df_features = pd.read_sql_query(query, conn)\n",
    "\n",
    "# Close the database connection\n",
    "conn.close()\n",
    "\n",
    "# Display the first few rows of the DataFrame\n",
    "print(df_features.head())"
   ]
  },
  {
   "cell_type": "code",
   "execution_count": 90,
   "metadata": {},
   "outputs": [
    {
     "data": {
      "text/plain": [
       "{'Cache-Control': 'private', 'Allow': 'OPTIONS', 'Content-Length': '1293', 'Content-Type': 'text/html', 'Content-Language': 'en', 'Server': 'Microsoft-IIS/10.0', 'X-AspNet-Version': '4.0.30319', 'Content-Security-Policy': \"'frame-ancestors' 'self'\", 'Access-Control-Allow-Origin': '*', 'Strict-Transport-Security': 'max-age=31622400; includeSubDomains; preload', 'Date': 'Tue, 09 Jan 2024 01:11:31 GMT'}"
      ]
     },
     "execution_count": 90,
     "metadata": {},
     "output_type": "execute_result"
    }
   ],
   "source": [
    "response = requests.head('https://www.fueleconomy.gov/ws/rest/vehicle/')\n",
    "\n",
    "response.headers"
   ]
  },
  {
   "cell_type": "code",
   "execution_count": null,
   "metadata": {},
   "outputs": [],
   "source": []
  }
 ],
 "metadata": {
  "kernelspec": {
   "display_name": "Python 3",
   "language": "python",
   "name": "python3"
  },
  "language_info": {
   "codemirror_mode": {
    "name": "ipython",
    "version": 3
   },
   "file_extension": ".py",
   "mimetype": "text/x-python",
   "name": "python",
   "nbconvert_exporter": "python",
   "pygments_lexer": "ipython3",
   "version": "3.12.1"
  }
 },
 "nbformat": 4,
 "nbformat_minor": 2
}
